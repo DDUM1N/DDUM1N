{
 "cells": [
  {
   "cell_type": "code",
   "execution_count": null,
   "id": "0ce5d6c5",
   "metadata": {},
   "outputs": [],
   "source": [
    "# Week 3 Assignment: 체중 측정 데이터 선 그래프 그리기\n",
    "# 작성자: [너의 이름]\n",
    "# 설명: 7일간 체중 변화를 matplotlib를 사용해 선 그래프로 시각화\n",
    "\n",
    "import numpy as np\n",
    "import matplotlib.pyplot as plt\n",
    "\n",
    "# 1) 데이터 정의\n",
    "x = np.array([1, 2, 3, 4, 5, 6, 7])  # 날짜\n",
    "y = np.array([78.4, 78.6, 78.5, 78.9, 78.2, 79.4, 78.6])  # 체중 데이터 (kg)\n",
    "\n",
    "# 2) 선 그래프 그리기\n",
    "plt.plot(x, y, color=\"r\", marker=\"o\", linestyle=\"-\", label=\"체중(kg)\")\n",
    "\n",
    "# 3) 그래프 꾸미기\n",
    "plt.title(\"7일간 체중 변화\")        # 그래프 제목\n",
    "plt.xlabel(\"날짜\")                 # X축 레이블\n",
    "plt.ylabel(\"체중 (kg)\")            # Y축 레이블\n",
    "plt.grid(True, linestyle=\"--\", alpha=0.6)  # 격자 추가\n",
    "plt.legend()                       # 범례 추가\n",
    "\n",
    "# 4) 그래프 출력\n",
    "plt.show()\n"
   ]
  }
 ],
 "metadata": {},
 "nbformat": 4,
 "nbformat_minor": 5
}

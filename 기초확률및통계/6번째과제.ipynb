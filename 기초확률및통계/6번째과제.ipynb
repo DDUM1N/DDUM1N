{
  "nbformat": 4,
  "nbformat_minor": 0,
  "metadata": {
    "colab": {
      "provenance": [],
      "authorship_tag": "ABX9TyP0Oec0g4yY33VY4exQbh4R",
      "include_colab_link": true
    },
    "kernelspec": {
      "name": "python3",
      "display_name": "Python 3"
    },
    "language_info": {
      "name": "python"
    }
  },
  "cells": [
    {
      "cell_type": "markdown",
      "metadata": {
        "id": "view-in-github",
        "colab_type": "text"
      },
      "source": [
        "<a href=\"https://colab.research.google.com/github/DDUM1N/DDUM1N/blob/main/6%EB%B2%88%EC%A7%B8%EA%B3%BC%EC%A0%9C.ipynb\" target=\"_parent\"><img src=\"https://colab.research.google.com/assets/colab-badge.svg\" alt=\"Open In Colab\"/></a>"
      ]
    },
    {
      "cell_type": "markdown",
      "source": [
        "# 6번째 과제, 통계_coding연습(6주차).pdf 연습하기\n",
        "## 1. 조건부확률 : 우유를 산 경우에 빵을 살 확률\n"
      ],
      "metadata": {
        "id": "1mHWbT9hbndH"
      }
    },
    {
      "cell_type": "code",
      "source": [
        "def conditional_probability(prob_a_and_b, prob_b):\n",
        "    return prob_a_and_b / prob_b\n",
        "\"\"\"\n",
        "조건부 확률을 계산하는 함수\n",
        ":param prob_a_and_b: 사건 A와 B가 동시에 일어날 확률\n",
        ":param prob_b: 사건 B가 일어날 확률\n",
        ":return: 조건부 확률 P(A|B)\n",
        "\"\"\"\n",
        "\n",
        "# 주어진 확률값\n",
        "prob_a = 0.6 # 빵을 살 확률\n",
        "prob_b = 0.4 # 우유를 살 확률\n",
        "prob_a_and_b = 0.3 # 빵도 사고 우유도 살 확률\n",
        "\n",
        "# 조건부 확률 계산\n",
        "prob_a_given_b = conditional_probability(prob_a_and_b, prob_b)\n",
        "print(\"우유를 산 경우에 빵을 살 확률:\", prob_a_given_b)"
      ],
      "metadata": {
        "colab": {
          "base_uri": "https://localhost:8080/"
        },
        "id": "fCq9whMIcFB_",
        "outputId": "d2ca7b8d-ff33-4240-9e13-a329be9474a7"
      },
      "execution_count": 3,
      "outputs": [
        {
          "output_type": "stream",
          "name": "stdout",
          "text": [
            "우유를산경우에빵을살확률: 0.7499999999999999\n"
          ]
        }
      ]
    },
    {
      "cell_type": "markdown",
      "source": [
        "- P(A|B) = 0.3 / 0.4 = 0.75\n",
        "- 우유를 산 사람 중 75%는 빵도 구매했다는 의미\n"
      ],
      "metadata": {
        "id": "XTlHzCmscwlK"
      }
    },
    {
      "cell_type": "markdown",
      "source": [
        "## 2. 조건부 확률 및 베이즈 정리의 구현"
      ],
      "metadata": {
        "id": "XCTBajIWcx1I"
      }
    },
    {
      "cell_type": "code",
      "source": [
        "# 사전확률과 사후확률\n",
        "# 한글 폰트 문제 없이 나눔고딕 폰트 설치과정 포함\n",
        "# 1. 나눔고딕 폰트 설치\n",
        "!apt-get -qq -y install fonts-nanum > /dev/null\n",
        "\n",
        "# 2. 런타임에 폰트를 설정\n",
        "import matplotlib.pyplot as plt\n",
        "import matplotlib.font_manager as fm\n",
        "import matplotlib\n",
        "import numpy as np\n",
        "# 나눔고딕으로 폰트 설정\n",
        "matplotlib.rc('font', family='NanumGothic')\n",
        "plt.rcParams['axes.unicode_minus'] = False  # 마이너스 기호 깨짐 방지\n",
        "\n",
        "# 3. 확률 시각화 코드\n",
        "colors = ['#348ABD', \"#A60628\"]\n",
        "prior = [1/25., 24/25.]        # 사전확률: [P(가수), P(직장인)]\n",
        "posterior = [0.158, 1-0.158]   # 사후확률: [P(가수|X), P(직장인|X)]\n",
        "\n",
        "# 사전확률바\n",
        "plt.bar([0, 0.7], prior, alpha=0.7, width=0.25,\n",
        "        color=colors[0], label=\"사전확률\",\n",
        "        lw=3, edgecolor='#348ABD')\n",
        "\n",
        "# 사후확률바\n",
        "plt.bar([0+0.25, 0.7+0.25], posterior, alpha=0.7,\n",
        "        width=0.25, color=colors[1], label='사후확률',\n",
        "        lw=3, edgecolor='#A60628')\n",
        "\n",
        "# 라벨과제목\n",
        "plt.xticks([0.12, 0.82], ['가수', '직장인'])\n",
        "plt.title('철수의 직업에 대한 사전확률과 사후확률')\n",
        "plt.ylabel('확률')\n",
        "plt.legend(loc='upper left')"
      ],
      "metadata": {
        "colab": {
          "base_uri": "https://localhost:8080/",
          "height": 468
        },
        "id": "Qu0Xn45icnFo",
        "outputId": "a506bc7e-2049-4bc2-b938-c6e870ba8769"
      },
      "execution_count": 9,
      "outputs": [
        {
          "output_type": "execute_result",
          "data": {
            "text/plain": [
              "<matplotlib.legend.Legend at 0x7e6f2166f080>"
            ]
          },
          "metadata": {},
          "execution_count": 9
        },
        {
          "output_type": "display_data",
          "data": {
            "text/plain": [
              "<Figure size 640x480 with 1 Axes>"
            ],
            "image/png": "[encoded data removed]"
          },
          "metadata": {}
        }
      ]
    },
    {
      "cell_type": "markdown",
      "source": [
        "- 파란색(사전확률) : 데이터 관찰 전 믿음\n",
        "- 붉은색(사후확률) : 데이터 관찰 후 업데이트된 확률\n",
        "\n",
        "→ 철수가 직장인일 확률이 가수보다 훨씬 높게 나타남"
      ],
      "metadata": {
        "id": "pMa2Jtvch4Wt"
      }
    }
  ]
}

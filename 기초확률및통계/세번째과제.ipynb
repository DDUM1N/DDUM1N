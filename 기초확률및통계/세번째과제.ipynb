{
 "cells": [
  {
   "cell_type": "markdown",
   "id": "25e74a23",
   "metadata": {},
   "source": [
    "# 세번째 과제 (Week 3)\n",
    "\n",
    "이번 과제는 **matplotlib**와 **NumPy**를 활용하여 데이터를 시각화하는 실습입니다.  \n",
    "총 5개의 연습 문제로 구성되어 있으며, 각 문제는 텍스트 설명과 코드, 실행 결과로 이루어져 있습니다.\n",
    "\n",
    "---\n"
   ]
  },
  {
   "cell_type": "markdown",
   "id": "7315f15e",
   "metadata": {},
   "source": [
    "## 연습 01: 체중 측정 데이터 예로 선 그래프 그리기"
   ]
  },
  {
   "cell_type": "code",
   "execution_count": null,
   "id": "2cfbfba0",
   "metadata": {},
   "outputs": [],
   "source": [
    "import numpy as np\n",
    "import matplotlib.pyplot as plt\n",
    "\n",
    "x = np.array([1, 2, 3, 4, 5, 6, 7])  # 날짜\n",
    "y = np.array([78.4, 78.6, 78.5, 78.9, 78.2, 79.4, 78.6])  # 체중 데이터 (kg)\n",
    "\n",
    "plt.plot(x, y, color=\"r\", marker=\"o\", linestyle=\"-\", label=\"체중(kg)\")\n",
    "plt.title(\"연습01: 7일간 체중 변화\")\n",
    "plt.xlabel(\"날짜\")\n",
    "plt.ylabel(\"체중 (kg)\")\n",
    "plt.legend()\n",
    "plt.grid(True, linestyle=\"--\", alpha=0.6)\n",
    "plt.show()\n"
   ]
  },
  {
   "cell_type": "markdown",
   "id": "aec13aa2",
   "metadata": {},
   "source": [
    "## 연습 02: 체중 측정 데이터 예의 산포도 그리기"
   ]
  },
  {
   "cell_type": "code",
   "execution_count": null,
   "id": "e763cea3",
   "metadata": {},
   "outputs": [],
   "source": [
    "plt.scatter(x, y, color=\"r\", label=\"체중 데이터\")\n",
    "plt.title(\"연습02: 체중 데이터 산포도\")\n",
    "plt.xlabel(\"날짜\")\n",
    "plt.ylabel(\"체중 (kg)\")\n",
    "plt.legend()\n",
    "plt.grid(True, linestyle=\"--\", alpha=0.6)\n",
    "plt.show()\n"
   ]
  },
  {
   "cell_type": "markdown",
   "id": "6b21dc04",
   "metadata": {},
   "source": [
    "## 연습 03: 체중 측정 데이터 예에 grid() 함수 적용"
   ]
  },
  {
   "cell_type": "code",
   "execution_count": null,
   "id": "fb26cd0a",
   "metadata": {},
   "outputs": [],
   "source": [
    "plt.plot(x, y, color=\"r\", marker=\"o\", linestyle=\"-\", label=\"체중(kg)\")\n",
    "plt.title(\"연습03: 체중 데이터 + Grid 적용\")\n",
    "plt.xlabel(\"날짜\")\n",
    "plt.ylabel(\"체중 (kg)\")\n",
    "plt.grid(True)\n",
    "plt.legend()\n",
    "plt.show()\n"
   ]
  },
  {
   "cell_type": "markdown",
   "id": "914e2439",
   "metadata": {},
   "source": [
    "## 연습 04: NumPy의 np.linspace로 생성한 데이터 시각화"
   ]
  },
  {
   "cell_type": "code",
   "execution_count": null,
   "id": "61d4e0df",
   "metadata": {},
   "outputs": [],
   "source": [
    "x = np.linspace(-5, 5, 300)\n",
    "y1 = x ** 2\n",
    "y2 = (x - 2) ** 2\n",
    "\n",
    "plt.plot(x, y1, color=\"r\", label=\"y = x^2\")\n",
    "plt.plot(x, y2, color=\"k\", linestyle=\"--\", label=\"y = (x-2)^2\")\n",
    "plt.title(\"연습04: linspace 활용 그래프\")\n",
    "plt.xlabel(\"x\")\n",
    "plt.ylabel(\"y\")\n",
    "plt.grid(True)\n",
    "plt.legend()\n",
    "plt.show()\n"
   ]
  },
  {
   "cell_type": "markdown",
   "id": "4acc0d64",
   "metadata": {},
   "source": [
    "## 연습 05: 그래프 모양 꾸미기 (폰트, 축, 범례, 스타일)"
   ]
  },
  {
   "cell_type": "code",
   "execution_count": null,
   "id": "5a010175",
   "metadata": {},
   "outputs": [],
   "source": [
    "!apt-get update -qq\n",
    "!apt-get install -y fonts-nanum\n",
    "\n",
    "import matplotlib.font_manager as fm\n",
    "\n",
    "font_path = \"/usr/share/fonts/truetype/nanum/NanumGothic.ttf\"\n",
    "fm.fontManager.addfont(font_path)\n",
    "plt.rc('font', family=fm.FontProperties(fname=font_path).get_name())\n",
    "plt.rcParams[\"axes.unicode_minus\"] = False\n",
    "\n",
    "x = np.linspace(-5, 5, 100)\n",
    "y1 = 2 * x\n",
    "y2 = 5 * x\n",
    "\n",
    "plt.plot(x, y1, label=\"y1 값\", color=\"r\")\n",
    "plt.plot(x, y2, label=\"y2 값\", linestyle=\"dashed\", color=\"k\")\n",
    "\n",
    "plt.xlabel(\"X-축\", size=14)\n",
    "plt.ylabel(\"Y-축\", size=14)\n",
    "plt.title(\"연습05: 그래프 꾸미기\")\n",
    "plt.grid()\n",
    "plt.legend()\n",
    "plt.show()\n"
   ]
  }
 ],
 "metadata": {},
 "nbformat": 4,
 "nbformat_minor": 5
}
